{
 "cells": [
  {
   "cell_type": "code",
   "execution_count": 1,
   "id": "495d20b1",
   "metadata": {},
   "outputs": [],
   "source": [
    "import os\n",
    "import argparse\n",
    "import sys\n",
    "sys.path.append(\"./lib\")\n",
    "\n",
    "import numpy as np\n",
    "\n",
    "from config import cfg, update_config\n",
    "import models\n",
    "\n",
    "import torch"
   ]
  },
  {
   "cell_type": "code",
   "execution_count": 2,
   "id": "3e490e59",
   "metadata": {},
   "outputs": [],
   "source": [
    "def parse_args():\n",
    "    parser = argparse.ArgumentParser(description='Train keypoints network')\n",
    "    # general\n",
    "    parser.add_argument('--cfg',\n",
    "                        help='experiment configure file name',\n",
    "                        required=False,\n",
    "                        type=str)\n",
    "\n",
    "    parser.add_argument('opts',\n",
    "                        help=\"Modify config options using the command-line\",\n",
    "                        default=None,\n",
    "                        nargs=argparse.REMAINDER)\n",
    "\n",
    "    # philly\n",
    "    parser.add_argument('--modelDir',\n",
    "                        help='model directory',\n",
    "                        type=str,\n",
    "                        default='')\n",
    "    parser.add_argument('--logDir',\n",
    "                        help='log directory',\n",
    "                        type=str,\n",
    "                        default='')\n",
    "    parser.add_argument('--dataDir',\n",
    "                        help='data directory',\n",
    "                        type=str,\n",
    "                        default='')\n",
    "    parser.add_argument('--prevModelDir',\n",
    "                        help='prev Model directory',\n",
    "                        type=str,\n",
    "                        default='')\n",
    "\n",
    "    args = parser.parse_known_args()[0]\n",
    "\n",
    "    return args"
   ]
  },
  {
   "cell_type": "code",
   "execution_count": null,
   "id": "15796b84",
   "metadata": {},
   "outputs": [],
   "source": []
  },
  {
   "cell_type": "markdown",
   "id": "2abd3e3d",
   "metadata": {},
   "source": [
    "# hrnet based\n"
   ]
  },
  {
   "cell_type": "code",
   "execution_count": 3,
   "id": "3899e115",
   "metadata": {},
   "outputs": [
    {
     "data": {
      "text/plain": [
       "Namespace(cfg='experiments/deepfashion2/hrnet/w48_384x288_adam_lr1e-3.yaml', dataDir='', logDir='', modelDir='', opts=[], prevModelDir='')"
      ]
     },
     "execution_count": 3,
     "metadata": {},
     "output_type": "execute_result"
    }
   ],
   "source": [
    "args = parse_args()\n",
    "args.cfg = 'experiments/deepfashion2/hrnet/w48_384x288_adam_lr1e-3.yaml'\n",
    "args.opts = []\n",
    "args"
   ]
  },
  {
   "cell_type": "code",
   "execution_count": 4,
   "id": "921c9351",
   "metadata": {},
   "outputs": [],
   "source": [
    "update_config(cfg, args)"
   ]
  },
  {
   "cell_type": "code",
   "execution_count": 5,
   "id": "b070f71c",
   "metadata": {},
   "outputs": [
    {
     "name": "stdout",
     "output_type": "stream",
     "text": [
      "pose_hrnet\n",
      "gaussian\n"
     ]
    }
   ],
   "source": [
    "print(cfg.MODEL.NAME)\n",
    "print(cfg.MODEL.TARGET_TYPE)\n",
    "model = eval('models.'+cfg.MODEL.NAME+'.get_pose_net')(cfg, is_train=True)"
   ]
  },
  {
   "cell_type": "code",
   "execution_count": 6,
   "id": "d5462987",
   "metadata": {},
   "outputs": [
    {
     "data": {
      "text/plain": [
       "<All keys matched successfully>"
      ]
     },
     "execution_count": 6,
     "metadata": {},
     "output_type": "execute_result"
    }
   ],
   "source": [
    "# model checkpoint load\n",
    "\n",
    "pth_model = 'pose_hrnet-w48_384x288-deepfashion2_mAP_0.7017.pth'\n",
    "ckpt = torch.load(pth_model, map_location='cpu')\n",
    "model.load_state_dict(ckpt)"
   ]
  },
  {
   "cell_type": "code",
   "execution_count": 7,
   "id": "929d9a0b",
   "metadata": {},
   "outputs": [
    {
     "name": "stdout",
     "output_type": "stream",
     "text": [
      "\n",
      "batch_size : 1 , channels : 3 , height : 384 , width 288 \n",
      "torch.Size([1, 294, 96, 72])\n"
     ]
    }
   ],
   "source": [
    "# Check : input and output shape\n",
    "\n",
    "model.eval()\n",
    "print()\n",
    "batch_size, channels, height, width = 1, 3, cfg.MODEL.IMAGE_SIZE[1], cfg.MODEL.IMAGE_SIZE[0]\n",
    "print(f'batch_size : {batch_size} , channels : {channels} , height : {height} , width {width} ')\n",
    "sample_input = torch.rand((batch_size, channels, height, width))\n",
    "\n",
    "test_output = model(sample_input)\n",
    "print(test_output.shape)"
   ]
  },
  {
   "cell_type": "code",
   "execution_count": 8,
   "id": "2e3ef53b",
   "metadata": {},
   "outputs": [],
   "source": [
    "# Save the model as an onnx file\n",
    "\n",
    "onnx_model_path = 'test_hrnet.onnx'\n",
    "torch.onnx.export(\n",
    "    model,                  # PyTorch Model\n",
    "    sample_input,                    # Input tensor\n",
    "    onnx_model_path,        # Output file (eg. 'output_model.onnx')\n",
    "    opset_version=12,       # Operator support version\n",
    "    input_names=['input'],   # Input tensor name (arbitary)\n",
    "    output_names=['output'] # Output tensor name (arbitary)\n",
    ")"
   ]
  },
  {
   "cell_type": "code",
   "execution_count": null,
   "id": "bd139731",
   "metadata": {},
   "outputs": [],
   "source": []
  },
  {
   "cell_type": "code",
   "execution_count": 9,
   "id": "b543fe1e",
   "metadata": {},
   "outputs": [],
   "source": [
    "import onnx\n",
    "\n",
    "## Load the ONNX model\n",
    "model = onnx.load(onnx_model_path)\n",
    "## Check that the IR is well formed\n",
    "onnx.checker.check_model(model)"
   ]
  },
  {
   "cell_type": "code",
   "execution_count": 10,
   "id": "2a169d31",
   "metadata": {},
   "outputs": [
    {
     "name": "stdout",
     "output_type": "stream",
     "text": [
      "(1, 3, 384, 288)\n",
      "True\n",
      "(1, 294, 96, 72)\n",
      "True\n"
     ]
    }
   ],
   "source": [
    "import onnxruntime as ort\n",
    "\n",
    "ort_session = ort.InferenceSession(onnx_model_path)\n",
    "print(np.random.randn(batch_size, channels, height, width).shape)\n",
    "print(np.random.randn(batch_size, channels, height, width).shape == sample_input.shape)\n",
    "outputs = ort_session.run(\n",
    "    None,\n",
    "    {'input': np.random.randn(batch_size, channels, height, width).astype(np.float32)}\n",
    ")\n",
    "print(outputs[0].shape)\n",
    "print(outputs[0].shape == test_output.shape)"
   ]
  },
  {
   "cell_type": "code",
   "execution_count": 12,
   "id": "9ecafae2",
   "metadata": {},
   "outputs": [
    {
     "name": "stderr",
     "output_type": "stream",
     "text": [
      "2023-01-27 12:56:28.748100: I tensorflow/stream_executor/cuda/cuda_gpu_executor.cc:975] successful NUMA node read from SysFS had negative value (-1), but there must be at least one NUMA node, so returning NUMA node zero\n",
      "2023-01-27 12:56:28.748655: I tensorflow/stream_executor/cuda/cuda_gpu_executor.cc:975] successful NUMA node read from SysFS had negative value (-1), but there must be at least one NUMA node, so returning NUMA node zero\n",
      "2023-01-27 12:56:28.750868: I tensorflow/stream_executor/cuda/cuda_gpu_executor.cc:975] successful NUMA node read from SysFS had negative value (-1), but there must be at least one NUMA node, so returning NUMA node zero\n",
      "2023-01-27 12:56:28.751343: I tensorflow/stream_executor/cuda/cuda_gpu_executor.cc:975] successful NUMA node read from SysFS had negative value (-1), but there must be at least one NUMA node, so returning NUMA node zero\n",
      "2023-01-27 12:56:28.751804: I tensorflow/stream_executor/cuda/cuda_gpu_executor.cc:975] successful NUMA node read from SysFS had negative value (-1), but there must be at least one NUMA node, so returning NUMA node zero\n",
      "2023-01-27 12:56:28.752259: I tensorflow/stream_executor/cuda/cuda_gpu_executor.cc:975] successful NUMA node read from SysFS had negative value (-1), but there must be at least one NUMA node, so returning NUMA node zero\n",
      "2023-01-27 12:56:28.752986: I tensorflow/core/platform/cpu_feature_guard.cc:193] This TensorFlow binary is optimized with oneAPI Deep Neural Network Library (oneDNN) to use the following CPU instructions in performance-critical operations:  AVX2 FMA\n",
      "To enable them in other operations, rebuild TensorFlow with the appropriate compiler flags.\n",
      "2023-01-27 12:56:29.047874: I tensorflow/stream_executor/cuda/cuda_gpu_executor.cc:975] successful NUMA node read from SysFS had negative value (-1), but there must be at least one NUMA node, so returning NUMA node zero\n",
      "2023-01-27 12:56:29.048250: I tensorflow/stream_executor/cuda/cuda_gpu_executor.cc:975] successful NUMA node read from SysFS had negative value (-1), but there must be at least one NUMA node, so returning NUMA node zero\n",
      "2023-01-27 12:56:29.048595: I tensorflow/stream_executor/cuda/cuda_gpu_executor.cc:975] successful NUMA node read from SysFS had negative value (-1), but there must be at least one NUMA node, so returning NUMA node zero\n",
      "2023-01-27 12:56:29.048944: I tensorflow/stream_executor/cuda/cuda_gpu_executor.cc:975] successful NUMA node read from SysFS had negative value (-1), but there must be at least one NUMA node, so returning NUMA node zero\n",
      "2023-01-27 12:56:29.049342: I tensorflow/stream_executor/cuda/cuda_gpu_executor.cc:975] successful NUMA node read from SysFS had negative value (-1), but there must be at least one NUMA node, so returning NUMA node zero\n",
      "2023-01-27 12:56:29.049674: I tensorflow/stream_executor/cuda/cuda_gpu_executor.cc:975] successful NUMA node read from SysFS had negative value (-1), but there must be at least one NUMA node, so returning NUMA node zero\n",
      "2023-01-27 12:56:30.801200: I tensorflow/stream_executor/cuda/cuda_gpu_executor.cc:975] successful NUMA node read from SysFS had negative value (-1), but there must be at least one NUMA node, so returning NUMA node zero\n",
      "2023-01-27 12:56:30.801623: I tensorflow/stream_executor/cuda/cuda_gpu_executor.cc:975] successful NUMA node read from SysFS had negative value (-1), but there must be at least one NUMA node, so returning NUMA node zero\n",
      "2023-01-27 12:56:30.801996: I tensorflow/stream_executor/cuda/cuda_gpu_executor.cc:975] successful NUMA node read from SysFS had negative value (-1), but there must be at least one NUMA node, so returning NUMA node zero\n",
      "2023-01-27 12:56:30.802361: I tensorflow/stream_executor/cuda/cuda_gpu_executor.cc:975] successful NUMA node read from SysFS had negative value (-1), but there must be at least one NUMA node, so returning NUMA node zero\n",
      "2023-01-27 12:56:30.802720: I tensorflow/stream_executor/cuda/cuda_gpu_executor.cc:975] successful NUMA node read from SysFS had negative value (-1), but there must be at least one NUMA node, so returning NUMA node zero\n",
      "2023-01-27 12:56:30.803080: I tensorflow/core/common_runtime/gpu/gpu_device.cc:1532] Created device /job:localhost/replica:0/task:0/device:GPU:0 with 9523 MB memory:  -> device: 0, name: NVIDIA GeForce RTX 3080 Ti, pci bus id: 0000:09:00.0, compute capability: 8.6\n",
      "2023-01-27 12:56:30.803346: I tensorflow/stream_executor/cuda/cuda_gpu_executor.cc:975] successful NUMA node read from SysFS had negative value (-1), but there must be at least one NUMA node, so returning NUMA node zero\n",
      "2023-01-27 12:56:30.803707: I tensorflow/core/common_runtime/gpu/gpu_device.cc:1532] Created device /job:localhost/replica:0/task:0/device:GPU:1 with 9546 MB memory:  -> device: 1, name: NVIDIA GeForce RTX 3080 Ti, pci bus id: 0000:0a:00.0, compute capability: 8.6\n",
      "WARNING:absl:Found untraced functions such as gen_tensor_dict while saving (showing 1 of 1). These functions will not be directly callable after loading.\n"
     ]
    },
    {
     "name": "stdout",
     "output_type": "stream",
     "text": [
      "INFO:tensorflow:Assets written to: TF_test_hrnet/assets\n"
     ]
    },
    {
     "name": "stderr",
     "output_type": "stream",
     "text": [
      "INFO:tensorflow:Assets written to: TF_test_hrnet/assets\n"
     ]
    }
   ],
   "source": [
    "# tensorflow model save\n",
    "from onnx_tf.backend import prepare\n",
    "\n",
    "# !!! tf_model_path should not contain an extension like .pb. !!!\n",
    "tf_model_path = 'TF_test_hrnet' \n",
    "tf_rep = prepare(model)\n",
    "tf_rep.export_graph(tf_model_path)"
   ]
  },
  {
   "cell_type": "code",
   "execution_count": null,
   "id": "7bd0b316",
   "metadata": {},
   "outputs": [],
   "source": []
  },
  {
   "cell_type": "code",
   "execution_count": 14,
   "id": "297e0448",
   "metadata": {},
   "outputs": [
    {
     "name": "stderr",
     "output_type": "stream",
     "text": [
      "2023-01-27 12:57:33.596175: W tensorflow/compiler/mlir/lite/python/tf_tfl_flatbuffer_helpers.cc:362] Ignored output_format.\n",
      "2023-01-27 12:57:33.596201: W tensorflow/compiler/mlir/lite/python/tf_tfl_flatbuffer_helpers.cc:365] Ignored drop_control_dependency.\n",
      "2023-01-27 12:57:33.596622: I tensorflow/cc/saved_model/reader.cc:43] Reading SavedModel from: TF_test_hrnet\n",
      "2023-01-27 12:57:33.638521: I tensorflow/cc/saved_model/reader.cc:81] Reading meta graph with tags { serve }\n",
      "2023-01-27 12:57:33.638556: I tensorflow/cc/saved_model/reader.cc:122] Reading SavedModel debug info (if present) from: TF_test_hrnet\n",
      "2023-01-27 12:57:33.807845: I tensorflow/compiler/mlir/mlir_graph_optimization_pass.cc:354] MLIR V1 optimization pass is not enabled\n",
      "2023-01-27 12:57:33.819768: I tensorflow/cc/saved_model/loader.cc:228] Restoring SavedModel bundle.\n",
      "2023-01-27 12:57:34.111835: I tensorflow/cc/saved_model/loader.cc:212] Running initialization op on SavedModel bundle at path: TF_test_hrnet\n",
      "2023-01-27 12:57:34.322089: I tensorflow/cc/saved_model/loader.cc:301] SavedModel load for tags { serve }; Status: success: OK. Took 725468 microseconds.\n",
      "2023-01-27 12:57:34.758038: I tensorflow/compiler/mlir/tensorflow/utils/dump_mlir_util.cc:263] disabling MLIR crash reproducer, set env var `MLIR_CRASH_REPRODUCER_DIRECTORY` to enable.\n",
      "2023-01-27 12:57:35.799919: I tensorflow/compiler/mlir/lite/flatbuffer_export.cc:1972] Estimated count of arithmetic ops: 70.892 G  ops, equivalently 35.446 G  MACs\n",
      "\n"
     ]
    }
   ],
   "source": [
    "# TF to TFLite\n",
    "import tensorflow as tf\n",
    "\n",
    "converter = tf.lite.TFLiteConverter.from_saved_model(tf_model_path)\n",
    "tflite_model = converter.convert()"
   ]
  },
  {
   "cell_type": "code",
   "execution_count": 16,
   "id": "9c7f00f5",
   "metadata": {},
   "outputs": [],
   "source": [
    "# Save the TFLite\n",
    "tflite_model_path = 'test_hrnet.tflite'\n",
    "\n",
    "with open(tflite_model_path, 'wb') as f:\n",
    "    f.write(tflite_model)"
   ]
  },
  {
   "cell_type": "code",
   "execution_count": null,
   "id": "6a791e01",
   "metadata": {},
   "outputs": [],
   "source": []
  },
  {
   "cell_type": "markdown",
   "id": "c2bb8edc",
   "metadata": {},
   "source": [
    "## Check : TFLite Model Load and Inference"
   ]
  },
  {
   "cell_type": "code",
   "execution_count": 17,
   "id": "255d6370",
   "metadata": {},
   "outputs": [
    {
     "name": "stdout",
     "output_type": "stream",
     "text": [
      "test_hrnet.tflite\n"
     ]
    },
    {
     "name": "stderr",
     "output_type": "stream",
     "text": [
      "INFO: Created TensorFlow Lite XNNPACK delegate for CPU.\n"
     ]
    }
   ],
   "source": [
    "print(tflite_model_path)\n",
    "# Load the TFLite model and allocate tensors\n",
    "interpreter = tf.lite.Interpreter(model_path=tflite_model_path)\n",
    "interpreter.allocate_tensors()"
   ]
  },
  {
   "cell_type": "code",
   "execution_count": 21,
   "id": "43a62bc3",
   "metadata": {},
   "outputs": [
    {
     "name": "stdout",
     "output_type": "stream",
     "text": [
      "[  1   3 384 288]\n",
      "(1, 294, 96, 72)\n"
     ]
    }
   ],
   "source": [
    "# Get input and output tensors\n",
    "input_details = interpreter.get_input_details()\n",
    "output_details = interpreter.get_output_details()\n",
    "\n",
    "# Test the model on random input data\n",
    "input_shape = input_details[0]['shape']\n",
    "print(input_shape)\n",
    "input_data = np.array(np.random.random_sample(input_shape), dtype=np.float32)\n",
    "interpreter.set_tensor(input_details[0]['index'], input_data)\n",
    "\n",
    "interpreter.invoke()\n",
    "\n",
    "# get_tensor() returns a copy of the tensor data\n",
    "# use tensor() in order to get a pointer to the tensor\n",
    "output_data = interpreter.get_tensor(output_details[0]['index'])\n",
    "print(output_data.shape)"
   ]
  },
  {
   "cell_type": "code",
   "execution_count": null,
   "id": "b3915bf2",
   "metadata": {},
   "outputs": [],
   "source": []
  },
  {
   "cell_type": "code",
   "execution_count": null,
   "id": "833e4d0c",
   "metadata": {},
   "outputs": [],
   "source": []
  },
  {
   "cell_type": "code",
   "execution_count": null,
   "id": "a7550a83",
   "metadata": {},
   "outputs": [],
   "source": []
  },
  {
   "cell_type": "code",
   "execution_count": null,
   "id": "edc55f03",
   "metadata": {},
   "outputs": [],
   "source": []
  },
  {
   "cell_type": "code",
   "execution_count": null,
   "id": "35d498a0",
   "metadata": {},
   "outputs": [],
   "source": []
  }
 ],
 "metadata": {
  "kernelspec": {
   "display_name": "hmgit",
   "language": "python",
   "name": "hmgit"
  },
  "language_info": {
   "codemirror_mode": {
    "name": "ipython",
    "version": 3
   },
   "file_extension": ".py",
   "mimetype": "text/x-python",
   "name": "python",
   "nbconvert_exporter": "python",
   "pygments_lexer": "ipython3",
   "version": "3.7.16"
  }
 },
 "nbformat": 4,
 "nbformat_minor": 5
}
